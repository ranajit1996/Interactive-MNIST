{
  "nbformat": 4,
  "nbformat_minor": 0,
  "metadata": {
    "colab": {
      "name": "MNIST_CNN_Data_Augmented.ipynb",
      "provenance": [],
      "collapsed_sections": [],
      "toc_visible": true
    },
    "kernelspec": {
      "name": "python3",
      "display_name": "Python 3"
    },
    "accelerator": "GPU"
  },
  "cells": [
    {
      "cell_type": "code",
      "metadata": {
        "id": "zqGcohDC5EQf",
        "colab_type": "code",
        "outputId": "a927d77b-69d1-4a62-cbe9-1f01025b7ab5",
        "colab": {
          "base_uri": "https://localhost:8080/",
          "height": 68
        }
      },
      "source": [
        "# Install tensorflow-2.1.0\n",
        "!pip install -q tensorflow==2.1.0"
      ],
      "execution_count": 0,
      "outputs": [
        {
          "output_type": "stream",
          "text": [
            "\u001b[K     |████████████████████████████████| 421.8MB 44kB/s \n",
            "\u001b[K     |████████████████████████████████| 450kB 35.0MB/s \n",
            "\u001b[?25h  Building wheel for gast (setup.py) ... \u001b[?25l\u001b[?25hdone\n"
          ],
          "name": "stdout"
        }
      ]
    },
    {
      "cell_type": "code",
      "metadata": {
        "id": "D8wv8qT05S7d",
        "colab_type": "code",
        "colab": {}
      },
      "source": [
        "# Import packages\n",
        "import tensorflow as tf\n",
        "from tensorflow.keras import Model\n",
        "from tensorflow.keras.layers import Input, Conv2D, BatchNormalization,MaxPooling2D, Flatten, Dense, Dropout\n",
        "from tensorflow.keras.datasets import mnist\n",
        "import matplotlib.pyplot as plt"
      ],
      "execution_count": 0,
      "outputs": []
    },
    {
      "cell_type": "code",
      "metadata": {
        "id": "3mXJ4iRt6Z8R",
        "colab_type": "code",
        "outputId": "a355949d-490d-4d70-dd43-3859dd01e0b5",
        "colab": {
          "base_uri": "https://localhost:8080/",
          "height": 85
        }
      },
      "source": [
        "# Load data\n",
        "(X_train, y_train), (X_test, y_test) = mnist.load_data()\n",
        "print(\"Shape of training data:\", X_train.shape, y_train.shape)\n",
        "print(\"Shape of test data:\", X_test.shape, y_test.shape)"
      ],
      "execution_count": 0,
      "outputs": [
        {
          "output_type": "stream",
          "text": [
            "Downloading data from https://storage.googleapis.com/tensorflow/tf-keras-datasets/mnist.npz\n",
            "11493376/11490434 [==============================] - 0s 0us/step\n",
            "Shape of training data: (60000, 28, 28) (60000,)\n",
            "Shape of test data: (10000, 28, 28) (10000,)\n"
          ],
          "name": "stdout"
        }
      ]
    },
    {
      "cell_type": "code",
      "metadata": {
        "id": "ARkBfj6JFyCE",
        "colab_type": "code",
        "colab": {}
      },
      "source": [
        "# Some variables\n",
        "batch_size = 128\n",
        "num_of_classes = 10\n",
        "epochs = 50"
      ],
      "execution_count": 0,
      "outputs": []
    },
    {
      "cell_type": "code",
      "metadata": {
        "id": "flaWGpxdCfru",
        "colab_type": "code",
        "outputId": "60deb8a5-bb2b-4ec6-87b1-e3e23d3b17f3",
        "colab": {
          "base_uri": "https://localhost:8080/",
          "height": 34
        }
      },
      "source": [
        "# Normalize data\n",
        "X_train = X_train.astype('float32')\n",
        "X_test = X_test.astype('float32')\n",
        "X_train = X_train / 255\n",
        "X_test = X_test / 255\n",
        "X_train = X_train.reshape((60000, 28, 28, 1))\n",
        "X_test = X_test.reshape((10000, 28, 28, 1))\n",
        "y_train = tf.keras.utils.to_categorical(y_train, num_of_classes)\n",
        "y_test = tf.keras.utils.to_categorical(y_test, num_of_classes)\n",
        "input_shape = (28, 28, 1)\n",
        "print(\"Data processing done...\")"
      ],
      "execution_count": 0,
      "outputs": [
        {
          "output_type": "stream",
          "text": [
            "Data processing done...\n"
          ],
          "name": "stdout"
        }
      ]
    },
    {
      "cell_type": "code",
      "metadata": {
        "id": "GAajzPVM604X",
        "colab_type": "code",
        "outputId": "714d3f4d-05d2-4f9c-b71f-d33ae63f281f",
        "colab": {
          "base_uri": "https://localhost:8080/",
          "height": 697
        }
      },
      "source": [
        "# Build model\n",
        "i = Input(shape=input_shape)\n",
        "x = Conv2D(32, (3, 3), activation='relu', padding='same')(i)\n",
        "x = BatchNormalization()(x)\n",
        "x = Conv2D(32, (3, 3), activation='relu', padding='same')(i)\n",
        "x = BatchNormalization()(x)\n",
        "x = MaxPooling2D((2, 2))(x)\n",
        "x = Conv2D(64, (3, 3), activation='relu', padding='same')(x)\n",
        "x = BatchNormalization()(x)\n",
        "x = Conv2D(64, (3, 3), activation='relu', padding='same')(x)\n",
        "x = BatchNormalization()(x)\n",
        "x = MaxPooling2D((2, 2))(x)\n",
        "x = Dropout(0.2)(x)\n",
        "x = Flatten()(x)\n",
        "x = Dense(256, activation='relu')(x)\n",
        "x = Dropout(0.2)(x)\n",
        "x = Dense(128, activation='relu')(x)\n",
        "x = Dropout(0.2)(x)\n",
        "x = Dense(num_of_classes, activation='softmax')(x)\n",
        "\n",
        "model = Model(i, x)\n",
        "model.compile(\n",
        "    loss = 'categorical_crossentropy',\n",
        "    optimizer = 'adam',\n",
        "    metrics = ['accuracy']\n",
        ")\n",
        "model.summary()"
      ],
      "execution_count": 0,
      "outputs": [
        {
          "output_type": "stream",
          "text": [
            "Model: \"model\"\n",
            "_________________________________________________________________\n",
            "Layer (type)                 Output Shape              Param #   \n",
            "=================================================================\n",
            "input_1 (InputLayer)         [(None, 28, 28, 1)]       0         \n",
            "_________________________________________________________________\n",
            "conv2d_1 (Conv2D)            (None, 28, 28, 32)        320       \n",
            "_________________________________________________________________\n",
            "batch_normalization_1 (Batch (None, 28, 28, 32)        128       \n",
            "_________________________________________________________________\n",
            "max_pooling2d (MaxPooling2D) (None, 14, 14, 32)        0         \n",
            "_________________________________________________________________\n",
            "conv2d_2 (Conv2D)            (None, 14, 14, 64)        18496     \n",
            "_________________________________________________________________\n",
            "batch_normalization_2 (Batch (None, 14, 14, 64)        256       \n",
            "_________________________________________________________________\n",
            "conv2d_3 (Conv2D)            (None, 14, 14, 64)        36928     \n",
            "_________________________________________________________________\n",
            "batch_normalization_3 (Batch (None, 14, 14, 64)        256       \n",
            "_________________________________________________________________\n",
            "max_pooling2d_1 (MaxPooling2 (None, 7, 7, 64)          0         \n",
            "_________________________________________________________________\n",
            "dropout (Dropout)            (None, 7, 7, 64)          0         \n",
            "_________________________________________________________________\n",
            "flatten (Flatten)            (None, 3136)              0         \n",
            "_________________________________________________________________\n",
            "dense (Dense)                (None, 256)               803072    \n",
            "_________________________________________________________________\n",
            "dropout_1 (Dropout)          (None, 256)               0         \n",
            "_________________________________________________________________\n",
            "dense_1 (Dense)              (None, 128)               32896     \n",
            "_________________________________________________________________\n",
            "dropout_2 (Dropout)          (None, 128)               0         \n",
            "_________________________________________________________________\n",
            "dense_2 (Dense)              (None, 10)                1290      \n",
            "=================================================================\n",
            "Total params: 893,642\n",
            "Trainable params: 893,322\n",
            "Non-trainable params: 320\n",
            "_________________________________________________________________\n"
          ],
          "name": "stdout"
        }
      ]
    },
    {
      "cell_type": "code",
      "metadata": {
        "id": "E8jxHmmKPUVM",
        "colab_type": "code",
        "outputId": "419fcb08-cbc0-418b-cd91-a18dca37660a",
        "colab": {
          "base_uri": "https://localhost:8080/",
          "height": 1000
        }
      },
      "source": [
        "# Train model with Data augmentation\n",
        "steps_per_epoch = X_train.shape[0] // batch_size\n",
        "data_generator = tf.keras.preprocessing.image.ImageDataGenerator(width_shift_range=0.2, height_shift_range=0.2, zca_whitening=True ,rotation_range=45)\n",
        "model_history = model.fit(data_generator.flow(X_train, y_train, batch_size=batch_size), validation_data=(X_test, y_test), steps_per_epoch=steps_per_epoch, epochs=100)"
      ],
      "execution_count": 0,
      "outputs": [
        {
          "output_type": "stream",
          "text": [
            "WARNING:tensorflow:sample_weight modes were coerced from\n",
            "  ...\n",
            "    to  \n",
            "  ['...']\n",
            "Train for 468 steps, validate on 10000 samples\n",
            "Epoch 1/100\n"
          ],
          "name": "stdout"
        },
        {
          "output_type": "stream",
          "text": [
            "/usr/local/lib/python3.6/dist-packages/keras_preprocessing/image/image_data_generator.py:336: UserWarning: This ImageDataGenerator specifies `zca_whitening`, which overrides setting of `featurewise_center`.\n",
            "  warnings.warn('This ImageDataGenerator specifies '\n",
            "/usr/local/lib/python3.6/dist-packages/keras_preprocessing/image/image_data_generator.py:716: UserWarning: This ImageDataGenerator specifies `featurewise_center`, but it hasn't been fit on any training data. Fit it first by calling `.fit(numpy_data)`.\n",
            "  warnings.warn('This ImageDataGenerator specifies '\n",
            "/usr/local/lib/python3.6/dist-packages/keras_preprocessing/image/image_data_generator.py:735: UserWarning: This ImageDataGenerator specifies `zca_whitening`, but it hasn't been fit on any training data. Fit it first by calling `.fit(numpy_data)`.\n",
            "  warnings.warn('This ImageDataGenerator specifies '\n",
            "/usr/local/lib/python3.6/dist-packages/keras_preprocessing/image/image_data_generator.py:716: UserWarning: This ImageDataGenerator specifies `featurewise_center`, but it hasn't been fit on any training data. Fit it first by calling `.fit(numpy_data)`.\n",
            "  warnings.warn('This ImageDataGenerator specifies '\n",
            "/usr/local/lib/python3.6/dist-packages/keras_preprocessing/image/image_data_generator.py:735: UserWarning: This ImageDataGenerator specifies `zca_whitening`, but it hasn't been fit on any training data. Fit it first by calling `.fit(numpy_data)`.\n",
            "  warnings.warn('This ImageDataGenerator specifies '\n"
          ],
          "name": "stderr"
        },
        {
          "output_type": "stream",
          "text": [
            "468/468 [==============================] - 21s 45ms/step - loss: 0.7060 - accuracy: 0.7696 - val_loss: 0.4780 - val_accuracy: 0.8681\n",
            "Epoch 2/100\n",
            "468/468 [==============================] - 15s 32ms/step - loss: 0.2352 - accuracy: 0.9292 - val_loss: 0.1140 - val_accuracy: 0.9669\n",
            "Epoch 3/100\n",
            "468/468 [==============================] - 14s 31ms/step - loss: 0.1726 - accuracy: 0.9486 - val_loss: 0.0840 - val_accuracy: 0.9753\n",
            "Epoch 4/100\n",
            "468/468 [==============================] - 14s 31ms/step - loss: 0.1426 - accuracy: 0.9583 - val_loss: 0.2013 - val_accuracy: 0.9378\n",
            "Epoch 5/100\n",
            "468/468 [==============================] - 14s 31ms/step - loss: 0.1310 - accuracy: 0.9614 - val_loss: 0.1333 - val_accuracy: 0.9558\n",
            "Epoch 6/100\n",
            "468/468 [==============================] - 14s 30ms/step - loss: 0.1127 - accuracy: 0.9674 - val_loss: 0.0694 - val_accuracy: 0.9789\n",
            "Epoch 7/100\n",
            "468/468 [==============================] - 14s 31ms/step - loss: 0.1087 - accuracy: 0.9683 - val_loss: 0.0653 - val_accuracy: 0.9809\n",
            "Epoch 8/100\n",
            "468/468 [==============================] - 14s 31ms/step - loss: 0.1020 - accuracy: 0.9707 - val_loss: 0.0537 - val_accuracy: 0.9831\n",
            "Epoch 9/100\n",
            "468/468 [==============================] - 14s 30ms/step - loss: 0.0954 - accuracy: 0.9724 - val_loss: 0.1289 - val_accuracy: 0.9623\n",
            "Epoch 10/100\n",
            "468/468 [==============================] - 14s 30ms/step - loss: 0.0918 - accuracy: 0.9739 - val_loss: 0.0693 - val_accuracy: 0.9786\n",
            "Epoch 11/100\n",
            "468/468 [==============================] - 14s 30ms/step - loss: 0.0886 - accuracy: 0.9743 - val_loss: 0.0548 - val_accuracy: 0.9835\n",
            "Epoch 12/100\n",
            "468/468 [==============================] - 14s 30ms/step - loss: 0.0806 - accuracy: 0.9768 - val_loss: 0.0390 - val_accuracy: 0.9868\n",
            "Epoch 13/100\n",
            "468/468 [==============================] - 14s 29ms/step - loss: 0.0825 - accuracy: 0.9768 - val_loss: 0.0396 - val_accuracy: 0.9881\n",
            "Epoch 14/100\n",
            "468/468 [==============================] - 14s 29ms/step - loss: 0.0768 - accuracy: 0.9782 - val_loss: 0.0441 - val_accuracy: 0.9866\n",
            "Epoch 15/100\n",
            "468/468 [==============================] - 14s 29ms/step - loss: 0.0739 - accuracy: 0.9785 - val_loss: 0.0423 - val_accuracy: 0.9861\n",
            "Epoch 16/100\n",
            "468/468 [==============================] - 14s 29ms/step - loss: 0.0758 - accuracy: 0.9780 - val_loss: 0.0599 - val_accuracy: 0.9824\n",
            "Epoch 17/100\n",
            "468/468 [==============================] - 13s 29ms/step - loss: 0.0696 - accuracy: 0.9802 - val_loss: 0.0465 - val_accuracy: 0.9854\n",
            "Epoch 18/100\n",
            "468/468 [==============================] - 13s 28ms/step - loss: 0.0707 - accuracy: 0.9797 - val_loss: 0.0356 - val_accuracy: 0.9884\n",
            "Epoch 19/100\n",
            "468/468 [==============================] - 13s 28ms/step - loss: 0.0687 - accuracy: 0.9805 - val_loss: 0.0363 - val_accuracy: 0.9893\n",
            "Epoch 20/100\n",
            "468/468 [==============================] - 13s 29ms/step - loss: 0.0654 - accuracy: 0.9815 - val_loss: 0.0351 - val_accuracy: 0.9889\n",
            "Epoch 21/100\n",
            "468/468 [==============================] - 14s 29ms/step - loss: 0.0625 - accuracy: 0.9822 - val_loss: 0.0327 - val_accuracy: 0.9904\n",
            "Epoch 22/100\n",
            "468/468 [==============================] - 13s 28ms/step - loss: 0.0631 - accuracy: 0.9821 - val_loss: 0.0504 - val_accuracy: 0.9840\n",
            "Epoch 23/100\n",
            "468/468 [==============================] - 13s 28ms/step - loss: 0.0613 - accuracy: 0.9827 - val_loss: 0.0406 - val_accuracy: 0.9878\n",
            "Epoch 24/100\n",
            "468/468 [==============================] - 13s 29ms/step - loss: 0.0629 - accuracy: 0.9818 - val_loss: 0.0326 - val_accuracy: 0.9900\n",
            "Epoch 25/100\n",
            "468/468 [==============================] - 13s 28ms/step - loss: 0.0566 - accuracy: 0.9835 - val_loss: 0.0347 - val_accuracy: 0.9884\n",
            "Epoch 26/100\n",
            "468/468 [==============================] - 13s 28ms/step - loss: 0.0619 - accuracy: 0.9826 - val_loss: 0.0265 - val_accuracy: 0.9912\n",
            "Epoch 27/100\n",
            "468/468 [==============================] - 13s 28ms/step - loss: 0.0576 - accuracy: 0.9830 - val_loss: 0.0403 - val_accuracy: 0.9874\n",
            "Epoch 28/100\n",
            "468/468 [==============================] - 13s 28ms/step - loss: 0.0552 - accuracy: 0.9836 - val_loss: 0.0378 - val_accuracy: 0.9881\n",
            "Epoch 29/100\n",
            "468/468 [==============================] - 13s 28ms/step - loss: 0.0586 - accuracy: 0.9837 - val_loss: 0.0285 - val_accuracy: 0.9916\n",
            "Epoch 30/100\n",
            "468/468 [==============================] - 13s 28ms/step - loss: 0.0566 - accuracy: 0.9843 - val_loss: 0.0434 - val_accuracy: 0.9862\n",
            "Epoch 31/100\n",
            "468/468 [==============================] - 13s 28ms/step - loss: 0.0524 - accuracy: 0.9846 - val_loss: 0.0379 - val_accuracy: 0.9885\n",
            "Epoch 32/100\n",
            "468/468 [==============================] - 13s 28ms/step - loss: 0.0553 - accuracy: 0.9850 - val_loss: 0.0431 - val_accuracy: 0.9873\n",
            "Epoch 33/100\n",
            "468/468 [==============================] - 13s 28ms/step - loss: 0.0512 - accuracy: 0.9851 - val_loss: 0.0438 - val_accuracy: 0.9874\n",
            "Epoch 34/100\n",
            "468/468 [==============================] - 13s 28ms/step - loss: 0.0538 - accuracy: 0.9843 - val_loss: 0.0309 - val_accuracy: 0.9912\n",
            "Epoch 35/100\n",
            "468/468 [==============================] - 13s 28ms/step - loss: 0.0508 - accuracy: 0.9854 - val_loss: 0.0356 - val_accuracy: 0.9887\n",
            "Epoch 36/100\n",
            "468/468 [==============================] - 13s 28ms/step - loss: 0.0522 - accuracy: 0.9853 - val_loss: 0.0352 - val_accuracy: 0.9890\n",
            "Epoch 37/100\n",
            "468/468 [==============================] - 13s 28ms/step - loss: 0.0498 - accuracy: 0.9855 - val_loss: 0.0477 - val_accuracy: 0.9866\n",
            "Epoch 38/100\n",
            "468/468 [==============================] - 13s 28ms/step - loss: 0.0504 - accuracy: 0.9857 - val_loss: 0.0583 - val_accuracy: 0.9810\n",
            "Epoch 39/100\n",
            "468/468 [==============================] - 13s 28ms/step - loss: 0.0500 - accuracy: 0.9854 - val_loss: 0.0545 - val_accuracy: 0.9836\n",
            "Epoch 40/100\n",
            "468/468 [==============================] - 13s 28ms/step - loss: 0.0492 - accuracy: 0.9858 - val_loss: 0.0286 - val_accuracy: 0.9908\n",
            "Epoch 41/100\n",
            "468/468 [==============================] - 13s 28ms/step - loss: 0.0484 - accuracy: 0.9865 - val_loss: 0.0260 - val_accuracy: 0.9916\n",
            "Epoch 42/100\n",
            "468/468 [==============================] - 13s 28ms/step - loss: 0.0467 - accuracy: 0.9862 - val_loss: 0.0341 - val_accuracy: 0.9893\n",
            "Epoch 43/100\n",
            "468/468 [==============================] - 13s 28ms/step - loss: 0.0452 - accuracy: 0.9870 - val_loss: 0.0229 - val_accuracy: 0.9934\n",
            "Epoch 44/100\n",
            "468/468 [==============================] - 13s 28ms/step - loss: 0.0482 - accuracy: 0.9862 - val_loss: 0.0339 - val_accuracy: 0.9898\n",
            "Epoch 45/100\n",
            "468/468 [==============================] - 13s 28ms/step - loss: 0.0456 - accuracy: 0.9872 - val_loss: 0.0289 - val_accuracy: 0.9904\n",
            "Epoch 46/100\n",
            "468/468 [==============================] - 13s 28ms/step - loss: 0.0468 - accuracy: 0.9875 - val_loss: 0.0295 - val_accuracy: 0.9912\n",
            "Epoch 47/100\n",
            "468/468 [==============================] - 13s 28ms/step - loss: 0.0438 - accuracy: 0.9868 - val_loss: 0.0221 - val_accuracy: 0.9926\n",
            "Epoch 48/100\n",
            "468/468 [==============================] - 13s 28ms/step - loss: 0.0462 - accuracy: 0.9867 - val_loss: 0.0240 - val_accuracy: 0.9920\n",
            "Epoch 49/100\n",
            "468/468 [==============================] - 13s 28ms/step - loss: 0.0441 - accuracy: 0.9868 - val_loss: 0.0308 - val_accuracy: 0.9902\n",
            "Epoch 50/100\n",
            "468/468 [==============================] - 13s 28ms/step - loss: 0.0455 - accuracy: 0.9871 - val_loss: 0.0331 - val_accuracy: 0.9894\n",
            "Epoch 51/100\n",
            "468/468 [==============================] - 13s 28ms/step - loss: 0.0435 - accuracy: 0.9876 - val_loss: 0.0398 - val_accuracy: 0.9889\n",
            "Epoch 52/100\n",
            "468/468 [==============================] - 13s 28ms/step - loss: 0.0448 - accuracy: 0.9868 - val_loss: 0.0316 - val_accuracy: 0.9904\n",
            "Epoch 53/100\n",
            "468/468 [==============================] - 13s 28ms/step - loss: 0.0416 - accuracy: 0.9875 - val_loss: 0.0256 - val_accuracy: 0.9920\n",
            "Epoch 54/100\n",
            "468/468 [==============================] - 13s 28ms/step - loss: 0.0422 - accuracy: 0.9876 - val_loss: 0.0247 - val_accuracy: 0.9922\n",
            "Epoch 55/100\n",
            "468/468 [==============================] - 13s 28ms/step - loss: 0.0416 - accuracy: 0.9879 - val_loss: 0.0285 - val_accuracy: 0.9914\n",
            "Epoch 56/100\n",
            "468/468 [==============================] - 13s 28ms/step - loss: 0.0420 - accuracy: 0.9879 - val_loss: 0.0301 - val_accuracy: 0.9904\n",
            "Epoch 57/100\n",
            "468/468 [==============================] - 13s 28ms/step - loss: 0.0400 - accuracy: 0.9880 - val_loss: 0.0294 - val_accuracy: 0.9905\n",
            "Epoch 58/100\n",
            "468/468 [==============================] - 13s 28ms/step - loss: 0.0410 - accuracy: 0.9888 - val_loss: 0.0289 - val_accuracy: 0.9904\n",
            "Epoch 59/100\n",
            "468/468 [==============================] - 13s 28ms/step - loss: 0.0393 - accuracy: 0.9885 - val_loss: 0.0321 - val_accuracy: 0.9905\n",
            "Epoch 60/100\n",
            "468/468 [==============================] - 13s 28ms/step - loss: 0.0404 - accuracy: 0.9887 - val_loss: 0.0237 - val_accuracy: 0.9929\n",
            "Epoch 61/100\n",
            "468/468 [==============================] - 13s 28ms/step - loss: 0.0403 - accuracy: 0.9888 - val_loss: 0.0297 - val_accuracy: 0.9904\n",
            "Epoch 62/100\n",
            "468/468 [==============================] - 13s 28ms/step - loss: 0.0401 - accuracy: 0.9886 - val_loss: 0.0351 - val_accuracy: 0.9895\n",
            "Epoch 63/100\n",
            "468/468 [==============================] - 13s 28ms/step - loss: 0.0392 - accuracy: 0.9880 - val_loss: 0.0270 - val_accuracy: 0.9912\n",
            "Epoch 64/100\n",
            "468/468 [==============================] - 13s 28ms/step - loss: 0.0387 - accuracy: 0.9888 - val_loss: 0.0323 - val_accuracy: 0.9896\n",
            "Epoch 65/100\n",
            "468/468 [==============================] - 13s 28ms/step - loss: 0.0390 - accuracy: 0.9886 - val_loss: 0.0306 - val_accuracy: 0.9907\n",
            "Epoch 66/100\n",
            "468/468 [==============================] - 13s 28ms/step - loss: 0.0377 - accuracy: 0.9892 - val_loss: 0.0263 - val_accuracy: 0.9915\n",
            "Epoch 67/100\n",
            "468/468 [==============================] - 14s 29ms/step - loss: 0.0394 - accuracy: 0.9888 - val_loss: 0.0248 - val_accuracy: 0.9923\n",
            "Epoch 68/100\n",
            "468/468 [==============================] - 13s 28ms/step - loss: 0.0413 - accuracy: 0.9882 - val_loss: 0.0277 - val_accuracy: 0.9912\n",
            "Epoch 69/100\n",
            "468/468 [==============================] - 14s 29ms/step - loss: 0.0399 - accuracy: 0.9884 - val_loss: 0.0268 - val_accuracy: 0.9914\n",
            "Epoch 70/100\n",
            "468/468 [==============================] - 14s 29ms/step - loss: 0.0376 - accuracy: 0.9893 - val_loss: 0.0264 - val_accuracy: 0.9913\n",
            "Epoch 71/100\n",
            "468/468 [==============================] - 14s 29ms/step - loss: 0.0363 - accuracy: 0.9892 - val_loss: 0.0230 - val_accuracy: 0.9929\n",
            "Epoch 72/100\n",
            "468/468 [==============================] - 13s 28ms/step - loss: 0.0372 - accuracy: 0.9893 - val_loss: 0.0196 - val_accuracy: 0.9943\n",
            "Epoch 73/100\n",
            "468/468 [==============================] - 13s 28ms/step - loss: 0.0382 - accuracy: 0.9890 - val_loss: 0.0216 - val_accuracy: 0.9925\n",
            "Epoch 74/100\n",
            "468/468 [==============================] - 13s 28ms/step - loss: 0.0361 - accuracy: 0.9892 - val_loss: 0.0277 - val_accuracy: 0.9917\n",
            "Epoch 75/100\n",
            "468/468 [==============================] - 13s 28ms/step - loss: 0.0369 - accuracy: 0.9892 - val_loss: 0.0294 - val_accuracy: 0.9919\n",
            "Epoch 76/100\n",
            "468/468 [==============================] - 13s 28ms/step - loss: 0.0338 - accuracy: 0.9902 - val_loss: 0.0271 - val_accuracy: 0.9919\n",
            "Epoch 77/100\n",
            "468/468 [==============================] - 13s 28ms/step - loss: 0.0343 - accuracy: 0.9897 - val_loss: 0.0236 - val_accuracy: 0.9926\n",
            "Epoch 78/100\n",
            "468/468 [==============================] - 13s 28ms/step - loss: 0.0346 - accuracy: 0.9900 - val_loss: 0.0300 - val_accuracy: 0.9903\n",
            "Epoch 79/100\n",
            "468/468 [==============================] - 13s 28ms/step - loss: 0.0360 - accuracy: 0.9894 - val_loss: 0.0305 - val_accuracy: 0.9905\n",
            "Epoch 80/100\n",
            "468/468 [==============================] - 13s 28ms/step - loss: 0.0336 - accuracy: 0.9900 - val_loss: 0.0228 - val_accuracy: 0.9929\n",
            "Epoch 81/100\n",
            "468/468 [==============================] - 13s 28ms/step - loss: 0.0354 - accuracy: 0.9902 - val_loss: 0.0243 - val_accuracy: 0.9929\n",
            "Epoch 82/100\n",
            "468/468 [==============================] - 13s 28ms/step - loss: 0.0356 - accuracy: 0.9892 - val_loss: 0.0306 - val_accuracy: 0.9908\n",
            "Epoch 83/100\n",
            "468/468 [==============================] - 13s 28ms/step - loss: 0.0347 - accuracy: 0.9899 - val_loss: 0.0258 - val_accuracy: 0.9919\n",
            "Epoch 84/100\n",
            "468/468 [==============================] - 13s 28ms/step - loss: 0.0340 - accuracy: 0.9899 - val_loss: 0.0261 - val_accuracy: 0.9918\n",
            "Epoch 85/100\n",
            "468/468 [==============================] - 13s 28ms/step - loss: 0.0331 - accuracy: 0.9904 - val_loss: 0.0298 - val_accuracy: 0.9903\n",
            "Epoch 86/100\n",
            "468/468 [==============================] - 13s 28ms/step - loss: 0.0322 - accuracy: 0.9909 - val_loss: 0.0269 - val_accuracy: 0.9912\n",
            "Epoch 87/100\n",
            "468/468 [==============================] - 13s 28ms/step - loss: 0.0348 - accuracy: 0.9896 - val_loss: 0.0290 - val_accuracy: 0.9902\n",
            "Epoch 88/100\n",
            "468/468 [==============================] - 13s 28ms/step - loss: 0.0330 - accuracy: 0.9904 - val_loss: 0.0248 - val_accuracy: 0.9916\n",
            "Epoch 89/100\n",
            "468/468 [==============================] - 13s 29ms/step - loss: 0.0320 - accuracy: 0.9901 - val_loss: 0.0215 - val_accuracy: 0.9926\n",
            "Epoch 90/100\n",
            "468/468 [==============================] - 13s 28ms/step - loss: 0.0332 - accuracy: 0.9907 - val_loss: 0.0274 - val_accuracy: 0.9915\n",
            "Epoch 91/100\n",
            "468/468 [==============================] - 13s 28ms/step - loss: 0.0318 - accuracy: 0.9907 - val_loss: 0.0254 - val_accuracy: 0.9916\n",
            "Epoch 92/100\n",
            "468/468 [==============================] - 13s 28ms/step - loss: 0.0324 - accuracy: 0.9910 - val_loss: 0.0201 - val_accuracy: 0.9929\n",
            "Epoch 93/100\n",
            "468/468 [==============================] - 13s 28ms/step - loss: 0.0316 - accuracy: 0.9908 - val_loss: 0.0278 - val_accuracy: 0.9915\n",
            "Epoch 94/100\n",
            "468/468 [==============================] - 13s 28ms/step - loss: 0.0331 - accuracy: 0.9910 - val_loss: 0.0310 - val_accuracy: 0.9912\n",
            "Epoch 95/100\n",
            "468/468 [==============================] - 14s 29ms/step - loss: 0.0320 - accuracy: 0.9909 - val_loss: 0.0235 - val_accuracy: 0.9931\n",
            "Epoch 96/100\n",
            "468/468 [==============================] - 13s 28ms/step - loss: 0.0324 - accuracy: 0.9906 - val_loss: 0.0214 - val_accuracy: 0.9931\n",
            "Epoch 97/100\n",
            "468/468 [==============================] - 13s 28ms/step - loss: 0.0305 - accuracy: 0.9915 - val_loss: 0.0344 - val_accuracy: 0.9903\n",
            "Epoch 98/100\n",
            "468/468 [==============================] - 13s 28ms/step - loss: 0.0322 - accuracy: 0.9908 - val_loss: 0.0217 - val_accuracy: 0.9930\n",
            "Epoch 99/100\n",
            "468/468 [==============================] - 13s 28ms/step - loss: 0.0317 - accuracy: 0.9905 - val_loss: 0.0217 - val_accuracy: 0.9937\n",
            "Epoch 100/100\n",
            "468/468 [==============================] - 13s 29ms/step - loss: 0.0307 - accuracy: 0.9910 - val_loss: 0.0223 - val_accuracy: 0.9928\n"
          ],
          "name": "stdout"
        }
      ]
    },
    {
      "cell_type": "code",
      "metadata": {
        "id": "Ek5TauKyGPKo",
        "colab_type": "code",
        "outputId": "ff6f1e11-84ef-4aa6-b067-4ee79ace1bde",
        "colab": {
          "base_uri": "https://localhost:8080/",
          "height": 51
        }
      },
      "source": [
        "# Evaluate model\n",
        "score = model.evaluate(X_test, y_test, verbose=0)\n",
        "print('Test loss:', score[0])\n",
        "print('Test accuracy:', score[1])"
      ],
      "execution_count": 0,
      "outputs": [
        {
          "output_type": "stream",
          "text": [
            "Test loss: 0.022275074268919615\n",
            "Test accuracy: 0.9928\n"
          ],
          "name": "stdout"
        }
      ]
    },
    {
      "cell_type": "code",
      "metadata": {
        "id": "T3uu4p2yGcBT",
        "colab_type": "code",
        "outputId": "9a586539-ad68-4e44-c705-b7b10db3e921",
        "colab": {
          "base_uri": "https://localhost:8080/",
          "height": 281
        }
      },
      "source": [
        "# Plot Loss vs Validation loss\n",
        "plt.plot(model_history.history['loss'], label='loss')\n",
        "plt.plot(model_history.history['val_loss'], label='validation loss')\n",
        "plt.legend()\n",
        "plt.title('Loss vs Validation Loss')\n",
        "plt.show()"
      ],
      "execution_count": 0,
      "outputs": [
        {
          "output_type": "display_data",
          "data": {
            "image/png": "[encoded data removed]",
            "text/plain": [
              "<Figure size 432x288 with 1 Axes>"
            ]
          },
          "metadata": {
            "tags": []
          }
        }
      ]
    },
    {
      "cell_type": "code",
      "metadata": {
        "id": "QTx5CgaYLd-A",
        "colab_type": "code",
        "outputId": "5e03435a-06c7-44b8-a233-a44880dd2f86",
        "colab": {
          "base_uri": "https://localhost:8080/",
          "height": 281
        }
      },
      "source": [
        "# Plot Accuracy vs Validation accuracy\n",
        "plt.plot(model_history.history['accuracy'], label='accuracy')\n",
        "plt.plot(model_history.history['val_accuracy'], label='validation accuracy')\n",
        "plt.legend()\n",
        "plt.title('Accuracy vs Validation Accuracy')\n",
        "plt.show()"
      ],
      "execution_count": 0,
      "outputs": [
        {
          "output_type": "display_data",
          "data": {
            "image/png": "[encoded data removed]",
            "text/plain": [
              "<Figure size 432x288 with 1 Axes>"
            ]
          },
          "metadata": {
            "tags": []
          }
        }
      ]
    },
    {
      "cell_type": "code",
      "metadata": {
        "id": "xRjPxY6vOP8G",
        "colab_type": "code",
        "colab": {}
      },
      "source": [
        "# Save model\n",
        "model.save('mnist_cnn_data_augmented.h5')"
      ],
      "execution_count": 0,
      "outputs": []
    }
  ]
}